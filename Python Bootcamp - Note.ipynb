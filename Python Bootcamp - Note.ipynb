{
 "cells": [
  {
   "cell_type": "code",
   "execution_count": 1,
   "id": "23622be7",
   "metadata": {},
   "outputs": [
    {
     "name": "stdout",
     "output_type": "stream",
     "text": [
      "Hello World!\n"
     ]
    }
   ],
   "source": [
    "print('Hello World!')"
   ]
  },
  {
   "cell_type": "code",
   "execution_count": 2,
   "id": "11b98337",
   "metadata": {},
   "outputs": [
    {
     "name": "stdout",
     "output_type": "stream",
     "text": [
      "\"Hello, DPhi! Today I executed my very first Python program. Thanks!\"\n"
     ]
    }
   ],
   "source": [
    "print('\"Hello, DPhi! Today I executed my very first Python program. Thanks!\"')"
   ]
  },
  {
   "cell_type": "code",
   "execution_count": 3,
   "id": "b6bc125c",
   "metadata": {},
   "outputs": [
    {
     "name": "stdout",
     "output_type": "stream",
     "text": [
      "5\n"
     ]
    }
   ],
   "source": [
    "# assign a value 5 to b\n",
    "b = 5\n",
    "\n",
    "print(b)"
   ]
  },
  {
   "cell_type": "code",
   "execution_count": 4,
   "id": "9375052d",
   "metadata": {},
   "outputs": [
    {
     "name": "stdout",
     "output_type": "stream",
     "text": [
      "21\n"
     ]
    }
   ],
   "source": [
    "# assign a value 5 to a\n",
    "a = 5\n",
    "\n",
    "# assign a value 16 to b\n",
    "b = 16\n",
    "\n",
    "x = a+b\n",
    "\n",
    "print(x)"
   ]
  },
  {
   "cell_type": "code",
   "execution_count": 5,
   "id": "35e6903e",
   "metadata": {},
   "outputs": [
    {
     "name": "stdout",
     "output_type": "stream",
     "text": [
      "e\n"
     ]
    }
   ],
   "source": [
    "a = \"Hello, World!\"\n",
    "\n",
    "print(a[1])"
   ]
  },
  {
   "cell_type": "code",
   "execution_count": 6,
   "id": "de25b4d6",
   "metadata": {},
   "outputs": [
    {
     "name": "stdout",
     "output_type": "stream",
     "text": [
      "World\n"
     ]
    }
   ],
   "source": [
    "a = \"Hello, World!\"\n",
    "\n",
    "print(a[7:12])"
   ]
  },
  {
   "cell_type": "code",
   "execution_count": 7,
   "id": "96ceb04a",
   "metadata": {},
   "outputs": [
    {
     "name": "stdout",
     "output_type": "stream",
     "text": [
      "r\n"
     ]
    }
   ],
   "source": [
    "a = \"Hello, World!\"\n",
    "\n",
    "print(a[-4])"
   ]
  },
  {
   "cell_type": "code",
   "execution_count": 8,
   "id": "7f830d31",
   "metadata": {},
   "outputs": [
    {
     "name": "stdout",
     "output_type": "stream",
     "text": [
      "orl\n"
     ]
    }
   ],
   "source": [
    "a = \"Hello, World!\"\n",
    "\n",
    "print(a[-5:-2])"
   ]
  },
  {
   "cell_type": "code",
   "execution_count": 9,
   "id": "ec567891",
   "metadata": {},
   "outputs": [
    {
     "name": "stdout",
     "output_type": "stream",
     "text": [
      "Python is awesome\n"
     ]
    }
   ],
   "source": [
    "# concatenation\n",
    "x = \"Python is \"\n",
    "y = \"awesome\"\n",
    "z =  x + y\n",
    "\n",
    "print(z)"
   ]
  },
  {
   "cell_type": "code",
   "execution_count": 10,
   "id": "15ac904b",
   "metadata": {},
   "outputs": [
    {
     "name": "stdout",
     "output_type": "stream",
     "text": [
      "13\n"
     ]
    }
   ],
   "source": [
    "# string length\n",
    "\n",
    "a = \"Hello, World!\"\n",
    "\n",
    "print(len(a))"
   ]
  },
  {
   "cell_type": "code",
   "execution_count": 11,
   "id": "374c7490",
   "metadata": {},
   "outputs": [
    {
     "name": "stdout",
     "output_type": "stream",
     "text": [
      "['Morning Walk', 'Leuven', 48851964400, 3.14, 'Mom']\n"
     ]
    }
   ],
   "source": [
    "# list in Python\n",
    "\n",
    "A = [\"Brush\", \"Leuven\", 48851964400, 3.14, \"Mom\"]\n",
    "A[0] = \"Morning Walk\"\n",
    "\n",
    "print(A)"
   ]
  },
  {
   "cell_type": "code",
   "execution_count": 12,
   "id": "09c0bbd1",
   "metadata": {
    "scrolled": true
   },
   "outputs": [
    {
     "name": "stdout",
     "output_type": "stream",
     "text": [
      "['Morning Walk', 'Leuven', 48851964400, 3.14, 'Mom', 'Butter']\n"
     ]
    }
   ],
   "source": [
    "# Append list in Python\n",
    "\n",
    "A = [\"Morning Walk\", \"Leuven\", 48851964400, 3.14, \"Mom\"]\n",
    "A.append(\"Butter\")\n",
    "\n",
    "print(A)"
   ]
  },
  {
   "cell_type": "code",
   "execution_count": 13,
   "id": "d65d686e",
   "metadata": {},
   "outputs": [
    {
     "name": "stdout",
     "output_type": "stream",
     "text": [
      "['Morning Walk', 'Butter', 'Leuven', 48851964400, 3.14, 'Mom']\n"
     ]
    }
   ],
   "source": [
    "# Insert list in Python\n",
    "\n",
    "A = [\"Morning Walk\", \"Leuven\", 48851964400, 3.14, \"Mom\"]\n",
    "A.insert(1, \"Butter\")\n",
    "\n",
    "print(A)"
   ]
  },
  {
   "cell_type": "code",
   "execution_count": 14,
   "id": "0f43ff4a",
   "metadata": {},
   "outputs": [
    {
     "name": "stdout",
     "output_type": "stream",
     "text": [
      "['bread', 'pasta', 'fruits', 'shampoo', 'soap']\n"
     ]
    }
   ],
   "source": [
    "# Combination list in Python\n",
    "\n",
    "food = [\"bread\", \"pasta\", \"fruits\"]\n",
    "bathroom= [\"shampoo\", \"soap\"]\n",
    "items= food+bathroom\n",
    "\n",
    "print(items)"
   ]
  },
  {
   "cell_type": "code",
   "execution_count": 15,
   "id": "16cef9a1",
   "metadata": {},
   "outputs": [
    {
     "name": "stdout",
     "output_type": "stream",
     "text": [
      "5\n"
     ]
    }
   ],
   "source": [
    "# length in Python\n",
    "\n",
    "items= [\"bread\", \"pasta\", \"fruits\", \"shampoo\", \"soap\"]\n",
    "\n",
    "print(len(items))"
   ]
  },
  {
   "cell_type": "code",
   "execution_count": 16,
   "id": "6e989694",
   "metadata": {},
   "outputs": [
    {
     "name": "stdout",
     "output_type": "stream",
     "text": [
      "150\n"
     ]
    }
   ],
   "source": [
    "# Substraction in Python. \n",
    "\n",
    "# The expense for every months\n",
    "A = [2200, 2350, 2600, 2130, 2190]\n",
    "\n",
    "# assign a value 2200 to a\n",
    "a = 2200\n",
    "\n",
    "# assign a value 2350 to b\n",
    "b = 2350\n",
    "\n",
    "x = b-a\n",
    "\n",
    "print(x)"
   ]
  },
  {
   "cell_type": "code",
   "execution_count": 17,
   "id": "70e58c32",
   "metadata": {
    "scrolled": true
   },
   "outputs": [
    {
     "name": "stdout",
     "output_type": "stream",
     "text": [
      "7150\n"
     ]
    }
   ],
   "source": [
    "# Sum in Python\n",
    "\n",
    "A = [2200, 2350, 2600, 2130, 2190]\n",
    "\n",
    "print(sum(A[0:3]))"
   ]
  },
  {
   "cell_type": "code",
   "execution_count": 18,
   "id": "04f0fce8",
   "metadata": {
    "scrolled": true
   },
   "outputs": [
    {
     "name": "stdout",
     "output_type": "stream",
     "text": [
      "False\n"
     ]
    }
   ],
   "source": [
    "# Comparison operator in Python\n",
    "\n",
    "A = [2200, 2350, 2600, 2130, 2190]\n",
    "B = [2000]\n",
    "\n",
    "print (A == B)"
   ]
  },
  {
   "cell_type": "code",
   "execution_count": 19,
   "id": "d1c60661",
   "metadata": {
    "scrolled": true
   },
   "outputs": [
    {
     "name": "stdout",
     "output_type": "stream",
     "text": [
      "[2200, 2350, 2600, 2130, 2190, 1980]\n"
     ]
    }
   ],
   "source": [
    "# Append list in Python\n",
    "\n",
    "A = [2200, 2350, 2600, 2130, 2190]\n",
    "A.append(1980)\n",
    "\n",
    "print(A)"
   ]
  },
  {
   "cell_type": "code",
   "execution_count": 20,
   "id": "19122f7b",
   "metadata": {},
   "outputs": [
    {
     "name": "stdout",
     "output_type": "stream",
     "text": [
      "[2200, 2350, 2600, 1930, 2190]\n"
     ]
    }
   ],
   "source": [
    "# Arithmetic operators in Python\n",
    "\n",
    "x= 2130-200\n",
    "\n",
    "A = [2200, 2350, 2600, x, 2190]\n",
    "\n",
    "print(A)"
   ]
  },
  {
   "cell_type": "code",
   "execution_count": 21,
   "id": "2b766ec0",
   "metadata": {},
   "outputs": [
    {
     "name": "stdout",
     "output_type": "stream",
     "text": [
      "[48851964400, 3.14]\n"
     ]
    }
   ],
   "source": [
    "# Turples in list\n",
    "\n",
    "A = [\"Brush\", \"Leuven\", 48851964400, 3.14, \"Mom\"]\n",
    "\n",
    "print(A[2:-1])"
   ]
  },
  {
   "cell_type": "code",
   "execution_count": 22,
   "id": "9a812566",
   "metadata": {},
   "outputs": [
    {
     "name": "stdout",
     "output_type": "stream",
     "text": [
      "1\n"
     ]
    }
   ],
   "source": [
    "# Count in list\n",
    "\n",
    "A = [\"Brush\", \"Leuven\", 48851964400, 3.14, \"Mom\"]\n",
    "\n",
    "print(A.count(3.14))"
   ]
  },
  {
   "cell_type": "code",
   "execution_count": 23,
   "id": "36772f1a",
   "metadata": {},
   "outputs": [
    {
     "name": "stdout",
     "output_type": "stream",
     "text": [
      "5\n"
     ]
    }
   ],
   "source": [
    "# Length in list\n",
    "\n",
    "A = [\"Brush\", \"Leuven\", 48851964400, 3.14, \"Mom\"]\n",
    "\n",
    "print(len(A))"
   ]
  },
  {
   "cell_type": "code",
   "execution_count": 24,
   "id": "600aeb69",
   "metadata": {},
   "outputs": [
    {
     "name": "stdout",
     "output_type": "stream",
     "text": [
      "['Brush', 'Leuven', 48851964400, 3.14, 'Mom', 'Tower', 2, 1.6]\n"
     ]
    }
   ],
   "source": [
    "# Join two tupples in Python\n",
    "\n",
    "A = [\"Brush\", \"Leuven\", 48851964400, 3.14, \"Mom\"]\n",
    "B = [\"Tower\", 2, 1.6]\n",
    "Z = A + B\n",
    "\n",
    "print(Z)"
   ]
  },
  {
   "cell_type": "code",
   "execution_count": 25,
   "id": "0a5e0113",
   "metadata": {},
   "outputs": [
    {
     "name": "stdout",
     "output_type": "stream",
     "text": [
      "('hi', 'hi', 'hi', 'hi', 'hi')\n"
     ]
    }
   ],
   "source": [
    "# Arithmetic operators in string\n",
    "\n",
    "a = (\"hi\",) * 5\n",
    "\n",
    "print(a)"
   ]
  },
  {
   "cell_type": "code",
   "execution_count": 26,
   "id": "76a6c2ab",
   "metadata": {},
   "outputs": [
    {
     "name": "stdout",
     "output_type": "stream",
     "text": [
      "hi\n"
     ]
    }
   ],
   "source": [
    "a = (\"hi\",) * 5\n",
    "\n",
    "print(a[2])"
   ]
  },
  {
   "cell_type": "code",
   "execution_count": 27,
   "id": "f0755a2b",
   "metadata": {
    "scrolled": true
   },
   "outputs": [
    {
     "name": "stdout",
     "output_type": "stream",
     "text": [
      "38\n",
      "22\n",
      "23\n"
     ]
    }
   ],
   "source": [
    "# Dictionaries between key and value \n",
    "d = {}\n",
    "\n",
    "# d = {\"Gary\":38, \"Jennifer\":22, \"Tank\" = 23}\n",
    "d[\"Gary\"] = 38\n",
    "d[\"Jennifer\"] = 22\n",
    "d[\"Tank\"] = 23\n",
    "\n",
    "print(d[\"Gary\"])\n",
    "print(d[\"Jennifer\"])\n",
    "print(d[\"Tank\"])"
   ]
  },
  {
   "cell_type": "code",
   "execution_count": 28,
   "id": "27171425",
   "metadata": {},
   "outputs": [
    {
     "name": "stdout",
     "output_type": "stream",
     "text": [
      "28\n"
     ]
    }
   ],
   "source": [
    "d[\"Jennifer\"] = 28\n",
    "\n",
    "print(d[\"Jennifer\"])"
   ]
  },
  {
   "cell_type": "code",
   "execution_count": 29,
   "id": "710eb27d",
   "metadata": {},
   "outputs": [
    {
     "name": "stdout",
     "output_type": "stream",
     "text": [
      "800\n"
     ]
    }
   ],
   "source": [
    "# Keys are commonly strings or numbers\n",
    "\n",
    "d[8] = 800\n",
    "\n",
    "print(d[8])"
   ]
  },
  {
   "cell_type": "code",
   "execution_count": 30,
   "id": "4e21e83c",
   "metadata": {},
   "outputs": [
    {
     "name": "stdout",
     "output_type": "stream",
     "text": [
      "key:\n",
      "Gary\n",
      "value\n",
      "38\n",
      "\n",
      "key:\n",
      "Jennifer\n",
      "value\n",
      "28\n",
      "\n",
      "key:\n",
      "Tank\n",
      "value\n",
      "23\n",
      "\n",
      "key:\n",
      "8\n",
      "value\n",
      "800\n",
      "\n"
     ]
    }
   ],
   "source": [
    "# How to iterate over key-value pairs?\n",
    "\n",
    "for key, value in d.items():\n",
    "    print(\"key:\")\n",
    "    print(key)\n",
    "    print(\"value\")\n",
    "    print(value)\n",
    "    print(\"\")"
   ]
  },
  {
   "cell_type": "code",
   "execution_count": 31,
   "id": "5c76fe2d",
   "metadata": {},
   "outputs": [
    {
     "name": "stdout",
     "output_type": "stream",
     "text": [
      "{1: 'Brown', 2: 'Purple', 3: 'White'}\n"
     ]
    }
   ],
   "source": [
    "# Keys in a dictionary are immutable and case sensitive\n",
    "\n",
    "my_dict = {1:\"Brown\", 2:\"Purple\", 3:\"White\"}\n",
    "\n",
    "print(my_dict)"
   ]
  },
  {
   "cell_type": "code",
   "execution_count": 32,
   "id": "4ab62f61",
   "metadata": {},
   "outputs": [
    {
     "name": "stdout",
     "output_type": "stream",
     "text": [
      "these are the same\n"
     ]
    }
   ],
   "source": [
    "# Built-in functions\n",
    "\n",
    "exNum1 = -5\n",
    "exNum2 = 5\n",
    "\n",
    "if abs(exNum1) == exNum2:\n",
    "    print(\"these are the same\")"
   ]
  },
  {
   "cell_type": "code",
   "execution_count": 33,
   "id": "22730fe4",
   "metadata": {},
   "outputs": [
    {
     "name": "stdout",
     "output_type": "stream",
     "text": [
      "368\n",
      "-9\n"
     ]
    }
   ],
   "source": [
    "# Examples of built-in functions\n",
    "\n",
    "exList = [5, 100, 368, -9, 0]\n",
    "\n",
    "print(max(exList))\n",
    "print(min(exList))"
   ]
  },
  {
   "cell_type": "code",
   "execution_count": 34,
   "id": "5dba81bf",
   "metadata": {},
   "outputs": [
    {
     "name": "stdout",
     "output_type": "stream",
     "text": [
      "8\n",
      "7\n"
     ]
    }
   ],
   "source": [
    "# Examples of built-in functions\n",
    "\n",
    "x = 7.891234\n",
    "print(round(x))\n",
    "\n",
    "x = 7.123456\n",
    "print(round(x))"
   ]
  },
  {
   "cell_type": "code",
   "execution_count": 35,
   "id": "c8660750",
   "metadata": {},
   "outputs": [
    {
     "name": "stdout",
     "output_type": "stream",
     "text": [
      "7\n",
      "8\n"
     ]
    }
   ],
   "source": [
    "# Round up (the largest integer) / round down (the smallest integer)\n",
    "\n",
    "import math\n",
    "\n",
    "print(math.floor(x))\n",
    "print(math.ceil(x))"
   ]
  },
  {
   "cell_type": "code",
   "execution_count": 36,
   "id": "f98a032f",
   "metadata": {},
   "outputs": [
    {
     "name": "stdout",
     "output_type": "stream",
     "text": [
      "777\n",
      "777\n",
      "777.0\n"
     ]
    }
   ],
   "source": [
    "# Integer and string in Python \n",
    "\n",
    "intMe = \"777\"\n",
    "\n",
    "print(intMe)\n",
    "print(int(intMe))\n",
    "print(float(intMe))"
   ]
  },
  {
   "cell_type": "code",
   "execution_count": 37,
   "id": "8d1ae53e",
   "metadata": {},
   "outputs": [
    {
     "name": "stdout",
     "output_type": "stream",
     "text": [
      "55\n",
      "55\n",
      "55.0\n"
     ]
    }
   ],
   "source": [
    "# Integer and string in Python\n",
    "\n",
    "strMe= 55\n",
    "\n",
    "print(strMe)\n",
    "print(str(strMe))\n",
    "print(float(strMe))"
   ]
  },
  {
   "cell_type": "code",
   "execution_count": 38,
   "id": "dce0dff0",
   "metadata": {},
   "outputs": [
    {
     "name": "stdout",
     "output_type": "stream",
     "text": [
      "78\n",
      "0\n",
      "6\n",
      "1.7\n",
      "2\n",
      "[78, 56, 4, 2.68, 1, 0]\n"
     ]
    }
   ],
   "source": [
    "# Summary of built-in functions\n",
    "\n",
    "x = [0,1,2.68,4,56,78]\n",
    "\n",
    "print(max(x))\n",
    "print(min(x))\n",
    "print(len(x))\n",
    "print(round(1.68,1))\n",
    "print(round(1.68))\n",
    "print(sorted(x, reverse=True))"
   ]
  },
  {
   "cell_type": "code",
   "execution_count": 39,
   "id": "d6df8692",
   "metadata": {},
   "outputs": [
    {
     "name": "stdout",
     "output_type": "stream",
     "text": [
      "2\n",
      "1.7\n",
      "1.68\n"
     ]
    }
   ],
   "source": [
    "# Round(number, ndigits)\n",
    "\n",
    "print(round(1.68))\n",
    "print(round(1.68,1))\n",
    "print(round(1.68,2))\n",
    "\n"
   ]
  },
  {
   "cell_type": "code",
   "execution_count": 40,
   "id": "c30d6633",
   "metadata": {},
   "outputs": [
    {
     "name": "stdout",
     "output_type": "stream",
     "text": [
      "395\n",
      "75\n"
     ]
    }
   ],
   "source": [
    "# Collection of numbers using the sum function\n",
    "\n",
    "num_list = [178, 164, 50, 3]\n",
    "print(sum(num_list))\n",
    "\n",
    "num_tup = (10,25,40)\n",
    "print(sum(num_tup))"
   ]
  },
  {
   "cell_type": "code",
   "execution_count": 41,
   "id": "0df0e2b2",
   "metadata": {},
   "outputs": [
    {
     "name": "stdout",
     "output_type": "stream",
     "text": [
      "2028.95\n",
      "527\n",
      "6851\n",
      "41633\n"
     ]
    }
   ],
   "source": [
    "# Define functions in Python\n",
    "\n",
    "def bitcoin_to_usd(btc):\n",
    "    amount = btc * 527\n",
    "    print(amount)\n",
    "    \n",
    "# function is independent of the object    \n",
    "    \n",
    "bitcoin_to_usd(3.85)\n",
    "bitcoin_to_usd(1)\n",
    "bitcoin_to_usd(13)\n",
    "bitcoin_to_usd(79)"
   ]
  },
  {
   "cell_type": "code",
   "execution_count": 42,
   "id": "e7423032",
   "metadata": {},
   "outputs": [
    {
     "data": {
      "text/plain": [
       "0    a\n",
       "1    b\n",
       "2    c\n",
       "3    d\n",
       "4    e\n",
       "5    f\n",
       "6    g\n",
       "7    h\n",
       "8    i\n",
       "9    j\n",
       "dtype: object"
      ]
     },
     "execution_count": 42,
     "metadata": {},
     "output_type": "execute_result"
    }
   ],
   "source": [
    "import pandas as pd\n",
    "x = pd.Series(['a','b','c','d','e','f','g','h','i','j'])\n",
    "\n",
    "x"
   ]
  },
  {
   "cell_type": "code",
   "execution_count": 43,
   "id": "e7a2ead4",
   "metadata": {},
   "outputs": [
    {
     "data": {
      "text/plain": [
       "RangeIndex(start=0, stop=10, step=1)"
      ]
     },
     "execution_count": 43,
     "metadata": {},
     "output_type": "execute_result"
    }
   ],
   "source": [
    "x.index"
   ]
  },
  {
   "cell_type": "code",
   "execution_count": 44,
   "id": "cf5203f7",
   "metadata": {},
   "outputs": [
    {
     "data": {
      "text/plain": [
       "2"
      ]
     },
     "execution_count": 44,
     "metadata": {},
     "output_type": "execute_result"
    }
   ],
   "source": [
    "x.index[2]"
   ]
  },
  {
   "cell_type": "code",
   "execution_count": 45,
   "id": "955c8e93",
   "metadata": {},
   "outputs": [
    {
     "data": {
      "text/plain": [
       "0    a\n",
       "1    b\n",
       "2    c\n",
       "3    d\n",
       "4    e\n",
       "5    f\n",
       "6    g\n",
       "7    h\n",
       "8    i\n",
       "dtype: object"
      ]
     },
     "execution_count": 45,
     "metadata": {},
     "output_type": "execute_result"
    }
   ],
   "source": [
    "x[0:9]"
   ]
  },
  {
   "cell_type": "code",
   "execution_count": 46,
   "id": "521b343d",
   "metadata": {},
   "outputs": [
    {
     "name": "stdout",
     "output_type": "stream",
     "text": [
      "0 , 1\n",
      "1 , 2\n",
      "2 , 4\n",
      "3 , 6\n",
      "4 , 8\n"
     ]
    }
   ],
   "source": [
    "new_list = [1,2,4,6,8]\n",
    "\n",
    "for x, new_val in enumerate(new_list):\n",
    "    print(x,\",\", new_val)"
   ]
  },
  {
   "cell_type": "code",
   "execution_count": 47,
   "id": "dc833033",
   "metadata": {},
   "outputs": [
    {
     "data": {
      "text/plain": [
       "'Abcdefg'"
      ]
     },
     "execution_count": 47,
     "metadata": {},
     "output_type": "execute_result"
    }
   ],
   "source": [
    "word = 'abcdefg'\n",
    "word.capitalize()"
   ]
  },
  {
   "cell_type": "code",
   "execution_count": 48,
   "id": "bde2e3fb",
   "metadata": {},
   "outputs": [
    {
     "data": {
      "text/plain": [
       "'abxydefg'"
      ]
     },
     "execution_count": 48,
     "metadata": {},
     "output_type": "execute_result"
    }
   ],
   "source": [
    "word.replace(\"c\",\"xy\")"
   ]
  },
  {
   "cell_type": "code",
   "execution_count": 55,
   "id": "e6141b06",
   "metadata": {},
   "outputs": [
    {
     "data": {
      "text/plain": [
       "['__doc__',\n",
       " '__loader__',\n",
       " '__name__',\n",
       " '__package__',\n",
       " '__spec__',\n",
       " 'acos',\n",
       " 'acosh',\n",
       " 'asin',\n",
       " 'asinh',\n",
       " 'atan',\n",
       " 'atan2',\n",
       " 'atanh',\n",
       " 'ceil',\n",
       " 'comb',\n",
       " 'copysign',\n",
       " 'cos',\n",
       " 'cosh',\n",
       " 'degrees',\n",
       " 'dist',\n",
       " 'e',\n",
       " 'erf',\n",
       " 'erfc',\n",
       " 'exp',\n",
       " 'expm1',\n",
       " 'fabs',\n",
       " 'factorial',\n",
       " 'floor',\n",
       " 'fmod',\n",
       " 'frexp',\n",
       " 'fsum',\n",
       " 'gamma',\n",
       " 'gcd',\n",
       " 'hypot',\n",
       " 'inf',\n",
       " 'isclose',\n",
       " 'isfinite',\n",
       " 'isinf',\n",
       " 'isnan',\n",
       " 'isqrt',\n",
       " 'lcm',\n",
       " 'ldexp',\n",
       " 'lgamma',\n",
       " 'log',\n",
       " 'log10',\n",
       " 'log1p',\n",
       " 'log2',\n",
       " 'modf',\n",
       " 'nan',\n",
       " 'nextafter',\n",
       " 'perm',\n",
       " 'pi',\n",
       " 'pow',\n",
       " 'prod',\n",
       " 'radians',\n",
       " 'remainder',\n",
       " 'sin',\n",
       " 'sinh',\n",
       " 'sqrt',\n",
       " 'tan',\n",
       " 'tanh',\n",
       " 'tau',\n",
       " 'trunc',\n",
       " 'ulp']"
      ]
     },
     "execution_count": 55,
     "metadata": {},
     "output_type": "execute_result"
    }
   ],
   "source": [
    "# To represnt the math directories in Python\n",
    "dir(math)"
   ]
  },
  {
   "cell_type": "code",
   "execution_count": 49,
   "id": "8f16e262",
   "metadata": {},
   "outputs": [
    {
     "name": "stdout",
     "output_type": "stream",
     "text": [
      "4.0\n",
      "8.0\n",
      "10.0\n",
      "32.0\n",
      "2187.0\n",
      "625.0\n"
     ]
    }
   ],
   "source": [
    "# Importing packages/modules in Python\n",
    "\n",
    "import math\n",
    "\n",
    "# to calculate the square root of a number\n",
    "print(math.sqrt(16))\n",
    "print(math.sqrt(64))\n",
    "print(math.sqrt(100))\n",
    "\n",
    "# to calculate the power of a number\n",
    "print(math.pow(2,5))\n",
    "print(math.pow(3,7))\n",
    "print(math.pow(5,4))"
   ]
  },
  {
   "cell_type": "code",
   "execution_count": 50,
   "id": "1873048d",
   "metadata": {},
   "outputs": [
    {
     "name": "stdout",
     "output_type": "stream",
     "text": [
      "2.0\n",
      "6.0\n"
     ]
    }
   ],
   "source": [
    "# Importing packages/modules in Python\n",
    "\n",
    "import math\n",
    "\n",
    "# to calculate the natural logarithm of a number to base b\n",
    "print(math.log10(100))\n",
    "print(math.log2(64))"
   ]
  },
  {
   "cell_type": "code",
   "execution_count": 51,
   "id": "7ad8ce53",
   "metadata": {},
   "outputs": [
    {
     "name": "stdout",
     "output_type": "stream",
     "text": [
      "    January 2022\n",
      "Mo Tu We Th Fr Sa Su\n",
      "                1  2\n",
      " 3  4  5  6  7  8  9\n",
      "10 11 12 13 14 15 16\n",
      "17 18 19 20 21 22 23\n",
      "24 25 26 27 28 29 30\n",
      "31\n",
      "\n"
     ]
    }
   ],
   "source": [
    "# Importing calendar modules in Python\n",
    "\n",
    "import calendar\n",
    "\n",
    "cal = calendar.month(2022,1)\n",
    "print(cal)"
   ]
  },
  {
   "cell_type": "code",
   "execution_count": 52,
   "id": "14485796",
   "metadata": {},
   "outputs": [
    {
     "data": {
      "text/plain": [
       "False"
      ]
     },
     "execution_count": 52,
     "metadata": {},
     "output_type": "execute_result"
    }
   ],
   "source": [
    "calendar.isleap(2022)"
   ]
  },
  {
   "cell_type": "code",
   "execution_count": 54,
   "id": "41e9f58d",
   "metadata": {},
   "outputs": [
    {
     "data": {
      "text/plain": [
       "True"
      ]
     },
     "execution_count": 54,
     "metadata": {},
     "output_type": "execute_result"
    }
   ],
   "source": [
    "calendar.isleap(2024)"
   ]
  },
  {
   "cell_type": "code",
   "execution_count": 56,
   "id": "9406473f",
   "metadata": {},
   "outputs": [
    {
     "data": {
      "text/plain": [
       "['Calendar',\n",
       " 'EPOCH',\n",
       " 'FRIDAY',\n",
       " 'February',\n",
       " 'HTMLCalendar',\n",
       " 'IllegalMonthError',\n",
       " 'IllegalWeekdayError',\n",
       " 'January',\n",
       " 'LocaleHTMLCalendar',\n",
       " 'LocaleTextCalendar',\n",
       " 'MONDAY',\n",
       " 'SATURDAY',\n",
       " 'SUNDAY',\n",
       " 'THURSDAY',\n",
       " 'TUESDAY',\n",
       " 'TextCalendar',\n",
       " 'WEDNESDAY',\n",
       " '_EPOCH_ORD',\n",
       " '__all__',\n",
       " '__builtins__',\n",
       " '__cached__',\n",
       " '__doc__',\n",
       " '__file__',\n",
       " '__loader__',\n",
       " '__name__',\n",
       " '__package__',\n",
       " '__spec__',\n",
       " '_colwidth',\n",
       " '_locale',\n",
       " '_localized_day',\n",
       " '_localized_month',\n",
       " '_monthlen',\n",
       " '_nextmonth',\n",
       " '_prevmonth',\n",
       " '_spacing',\n",
       " 'c',\n",
       " 'calendar',\n",
       " 'datetime',\n",
       " 'day_abbr',\n",
       " 'day_name',\n",
       " 'different_locale',\n",
       " 'error',\n",
       " 'firstweekday',\n",
       " 'format',\n",
       " 'formatstring',\n",
       " 'isleap',\n",
       " 'leapdays',\n",
       " 'main',\n",
       " 'mdays',\n",
       " 'month',\n",
       " 'month_abbr',\n",
       " 'month_name',\n",
       " 'monthcalendar',\n",
       " 'monthrange',\n",
       " 'prcal',\n",
       " 'prmonth',\n",
       " 'prweek',\n",
       " 'repeat',\n",
       " 'setfirstweekday',\n",
       " 'sys',\n",
       " 'timegm',\n",
       " 'week',\n",
       " 'weekday',\n",
       " 'weekheader']"
      ]
     },
     "execution_count": 56,
     "metadata": {},
     "output_type": "execute_result"
    }
   ],
   "source": [
    "# To represent the calendar directories in Python\n",
    "dir(calendar)"
   ]
  },
  {
   "cell_type": "code",
   "execution_count": 57,
   "id": "34cb3424",
   "metadata": {},
   "outputs": [
    {
     "data": {
      "text/plain": [
       "False"
      ]
     },
     "execution_count": 57,
     "metadata": {},
     "output_type": "execute_result"
    }
   ],
   "source": [
    "9>7 and 9>10"
   ]
  },
  {
   "cell_type": "code",
   "execution_count": 58,
   "id": "db662945",
   "metadata": {},
   "outputs": [
    {
     "data": {
      "text/plain": [
       "90.6"
      ]
     },
     "execution_count": 58,
     "metadata": {},
     "output_type": "execute_result"
    }
   ],
   "source": [
    "round(90.589,1)"
   ]
  },
  {
   "cell_type": "code",
   "execution_count": 60,
   "id": "f805d287",
   "metadata": {},
   "outputs": [
    {
     "name": "stdout",
     "output_type": "stream",
     "text": [
      "<class 'list'>\n"
     ]
    }
   ],
   "source": [
    "overall_ratings = [95, 99, 93, 99, 97, 94, 85, 90, 98, 99]\n",
    "\n",
    "print(type(overall_ratings))"
   ]
  },
  {
   "cell_type": "code",
   "execution_count": 61,
   "id": "7f350fef",
   "metadata": {},
   "outputs": [
    {
     "name": "stdout",
     "output_type": "stream",
     "text": [
      "99\n"
     ]
    }
   ],
   "source": [
    "overall_ratings = [95, 99, 93, 99, 97, 94, 85, 90, 98, 99]\n",
    "\n",
    "print(max(overall_ratings))"
   ]
  },
  {
   "cell_type": "code",
   "execution_count": 63,
   "id": "1016765d",
   "metadata": {},
   "outputs": [
    {
     "name": "stdout",
     "output_type": "stream",
     "text": [
      "<class 'list'>\n"
     ]
    }
   ],
   "source": [
    "apartments = [{'ID': '19665213.0', 'Overall Rating': '100.0', 'Price': 26.0},\n",
    "             {'ID': '6436842.0', 'Overall Rating': '90.0', 'Price': 41.0},\n",
    "             {'ID': '10559468.0', 'Overall Rating': '100.0', 'Price': 50.0},\n",
    "             {'ID': '27215482.0', 'Overall Rating': '100.0', 'Price': 50.0},\n",
    "             {'ID': '27287546.0', 'Overall Rating': '90.0', 'Price': 55.0}]\n",
    "\n",
    "print(type(apartments))"
   ]
  },
  {
   "cell_type": "code",
   "execution_count": 68,
   "id": "9b25aa88",
   "metadata": {},
   "outputs": [
    {
     "name": "stdout",
     "output_type": "stream",
     "text": [
      "100.0\n"
     ]
    }
   ],
   "source": [
    "apartments = [{'ID': '19665213.0', 'Overall Rating': '100.0', 'Price': 26.0},\n",
    "             {'ID': '6436842.0', 'Overall Rating': '90.0', 'Price': 41.0},\n",
    "             {'ID': '10559468.0', 'Overall Rating': '100.0', 'Price': 50.0},\n",
    "             {'ID': '27215482.0', 'Overall Rating': '100.0', 'Price': 50.0},\n",
    "             {'ID': '27287546.0', 'Overall Rating': '90.0', 'Price': 55.0}]\n",
    "\n",
    "print(apartments[3]['Overall Rating'])"
   ]
  },
  {
   "cell_type": "code",
   "execution_count": null,
   "id": "fec2eab0",
   "metadata": {},
   "outputs": [],
   "source": []
  }
 ],
 "metadata": {
  "kernelspec": {
   "display_name": "Python 3 (ipykernel)",
   "language": "python",
   "name": "python3"
  },
  "language_info": {
   "codemirror_mode": {
    "name": "ipython",
    "version": 3
   },
   "file_extension": ".py",
   "mimetype": "text/x-python",
   "name": "python",
   "nbconvert_exporter": "python",
   "pygments_lexer": "ipython3",
   "version": "3.9.12"
  }
 },
 "nbformat": 4,
 "nbformat_minor": 5
}
