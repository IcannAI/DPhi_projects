{
 "cells": [
  {
   "cell_type": "code",
   "execution_count": 1,
   "id": "ef03dfd9",
   "metadata": {},
   "outputs": [],
   "source": [
    "# Overview\n",
    "\n",
    "# Dear Learner,Congratulations, you have studied Python all the way through the end of this bootcamp!!! \n",
    "# This is the final graded hands-on exercise where you will be accomplishing the below mentioned task.\n",
    "# Authors: Albana Celepija, Vinayak Deshpande"
   ]
  },
  {
   "cell_type": "code",
   "execution_count": 2,
   "id": "e91c179b",
   "metadata": {},
   "outputs": [
    {
     "name": "stdout",
     "output_type": "stream",
     "text": [
      "('python', 'python', 'python', 'python', 'python')\n"
     ]
    }
   ],
   "source": [
    "# Task 1\n",
    "# We have declared a tuple containing five same elements as following: T = (‘python’, ‘python’, ‘python’, ‘python’, ‘python’). Re-write the same code in an optimal/simple way that fetches the same result.\n",
    "\n",
    "T = (\"python\",) * 5\n",
    "print(T)"
   ]
  },
  {
   "cell_type": "code",
   "execution_count": 3,
   "id": "e7109546",
   "metadata": {},
   "outputs": [
    {
     "name": "stdout",
     "output_type": "stream",
     "text": [
      "pto\n"
     ]
    }
   ],
   "source": [
    "# Task 2\n",
    "# Write code to print characters from a string that are present at an even index number. For example, if your input string is \"python\", the output characters will be (p,t,o).\n",
    "\n",
    "my_str = \"python\"\n",
    "'{} {}'.format(my_str[::2], my_str[1::2])\n",
    "print(my_str[::2])"
   ]
  },
  {
   "cell_type": "code",
   "execution_count": 4,
   "id": "41f1042d",
   "metadata": {},
   "outputs": [
    {
     "name": "stdout",
     "output_type": "stream",
     "text": [
      "5.4\n"
     ]
    }
   ],
   "source": [
    "# Task 3\n",
    "# Write a function that calculates the average of the elements of the list: elements = [5, 7, 4, 9, 2]\n",
    "\n",
    "elements = [5, 7, 4, 9, 2]\n",
    "sum(elements)\n",
    "average = sum(elements)/5\n",
    "\n",
    "print(average)"
   ]
  },
  {
   "cell_type": "code",
   "execution_count": 5,
   "id": "7fe851fe",
   "metadata": {
    "scrolled": true
   },
   "outputs": [
    {
     "name": "stdout",
     "output_type": "stream",
     "text": [
      "False\n"
     ]
    }
   ],
   "source": [
    "# Task 4\n",
    "# Write a code that takes a year as input and determines whether it is a leap year or not.\n",
    "\n",
    "import calendar\n",
    "\n",
    "print(calendar.isleap(2022))"
   ]
  },
  {
   "cell_type": "code",
   "execution_count": 6,
   "id": "28191f40",
   "metadata": {},
   "outputs": [
    {
     "name": "stdout",
     "output_type": "stream",
     "text": [
      "69\n"
     ]
    }
   ],
   "source": [
    "# Task 5\n",
    "# Given a list of numbers (integers), find the sum of second maximum and second minimum in the following list. l = [21, 6, 12, 57, 35, 61]\n",
    "\n",
    "l = [21, 6, 12, 57, 35, 61]\n",
    "sorted(l, reverse=True)\n",
    "\n",
    "num_tup = (57,12)\n",
    "print(sum(num_tup))"
   ]
  }
 ],
 "metadata": {
  "kernelspec": {
   "display_name": "Python 3 (ipykernel)",
   "language": "python",
   "name": "python3"
  },
  "language_info": {
   "codemirror_mode": {
    "name": "ipython",
    "version": 3
   },
   "file_extension": ".py",
   "mimetype": "text/x-python",
   "name": "python",
   "nbconvert_exporter": "python",
   "pygments_lexer": "ipython3",
   "version": "3.9.12"
  }
 },
 "nbformat": 4,
 "nbformat_minor": 5
}
